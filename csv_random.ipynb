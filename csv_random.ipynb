{
 "cells": [
  {
   "cell_type": "code",
   "execution_count": 2,
   "metadata": {},
   "outputs": [
    {
     "data": {
      "text/plain": [
       "'/Users/luisalbertocerelli/Desktop/00-Todo/00-Practicas_Data_Engineer/22_csv_random/empleados.csv'"
      ]
     },
     "execution_count": 2,
     "metadata": {},
     "output_type": "execute_result"
    }
   ],
   "source": [
    "import pandas as pd\n",
    "import random\n",
    "\n",
    "# Definir los departamentos\n",
    "departamentos = ['Recursos Humanos', 'Marketing', 'Ventas', 'IT', 'Finanzas', 'Producción', 'Investigación', 'Logística']\n",
    "\n",
    "# Crear una función para generar datos aleatorios\n",
    "def generar_datos_empleados(num_registros):\n",
    "    nombres = ['Luis', 'Juan', 'Maria', 'Ana', 'Pedro', 'Sofia', 'Miguel', 'Lucia', 'Carlos', 'Elena']\n",
    "    apellidos = ['Gomez', 'Perez', 'Martinez', 'Rodriguez', 'Fernandez', 'Lopez', 'Sanchez', 'Diaz', 'Morales', 'Torres']\n",
    "    edades = [random.randint(22, 60) for _ in range(num_registros)]\n",
    "    salarios = [random.randint(20000, 120000) for _ in range(num_registros)]\n",
    "    departamentos_empleado = [random.choice(departamentos) for _ in range(num_registros)]\n",
    "\n",
    "    data = {\n",
    "        'Nombre': [random.choice(nombres) for _ in range(num_registros)],\n",
    "        'Apellido': [random.choice(apellidos) for _ in range(num_registros)],\n",
    "        'Edad': edades,\n",
    "        'Salario': salarios,\n",
    "        'Departamento': departamentos_empleado\n",
    "    }\n",
    "    return pd.DataFrame(data)\n",
    "\n",
    "# Generar un DataFrame con 1000 registros\n",
    "df_empleados = generar_datos_empleados(1000)\n",
    "\n",
    "# Guardar el DataFrame en un archivo CSV\n",
    "csv_path = '/Users/luisalbertocerelli/Desktop/00-Todo/00-Practicas_Data_Engineer/22_csv_random/empleados1.csv'\n",
    "df_empleados.to_csv(csv_path, index=False)\n",
    "\n",
    "csv_path\n"
   ]
  }
 ],
 "metadata": {
  "kernelspec": {
   "display_name": "Python 3",
   "language": "python",
   "name": "python3"
  },
  "language_info": {
   "codemirror_mode": {
    "name": "ipython",
    "version": 3
   },
   "file_extension": ".py",
   "mimetype": "text/x-python",
   "name": "python",
   "nbconvert_exporter": "python",
   "pygments_lexer": "ipython3",
   "version": "3.12.3"
  }
 },
 "nbformat": 4,
 "nbformat_minor": 2
}
